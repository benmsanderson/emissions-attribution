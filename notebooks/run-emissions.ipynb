{
 "cells": [
  {
   "cell_type": "markdown",
   "id": "0",
   "metadata": {},
   "source": [
    "# Do emissions-based temperature attribution using fair\n",
    "\n",
    "- Calibration set v1.5.0 (historical observed to 2023)\n",
    "- Emissions scenario CMIP7 preliminary historical extended with re-harmonized SSP2-4.5 (to 2024)"
   ]
  },
  {
   "cell_type": "code",
   "execution_count": null,
   "id": "1",
   "metadata": {},
   "outputs": [],
   "source": [
    "import os\n",
    "\n",
    "from fair import FAIR\n",
    "from fair.interface import fill, initialise\n",
    "from fair.io import read_properties\n",
    "import matplotlib.pyplot as pl\n",
    "import numpy as np\n",
    "import pandas as pd\n",
    "import scipy.stats\n",
    "import xarray as xr"
   ]
  },
  {
   "cell_type": "code",
   "execution_count": null,
   "id": "2",
   "metadata": {},
   "outputs": [],
   "source": [
    "pl.style.use('../defaults.mplstyle')"
   ]
  },
  {
   "cell_type": "code",
   "execution_count": null,
   "id": "3",
   "metadata": {},
   "outputs": [],
   "source": [
    "scenarios = ['ssp245', 'ssp245-noCH4', 'ssp245-noSO2']"
   ]
  },
  {
   "cell_type": "code",
   "execution_count": null,
   "id": "4",
   "metadata": {},
   "outputs": [],
   "source": [
    "f = FAIR()\n",
    "f.define_time(1750, 2025, 1)\n",
    "f.define_scenarios(scenarios)\n",
    "species, properties = read_properties('../data/calibration/species_configs_properties_1.5.0.csv')\n",
    "f.define_species(species, properties)\n",
    "f.ch4_method='Thornhill2021'\n",
    "df_configs = pd.read_csv('../data/calibration/calibrated_constrained_parameters_1.5.0.csv', index_col=0)\n",
    "f.define_configs(df_configs.index)\n",
    "f.allocate()"
   ]
  },
  {
   "cell_type": "code",
   "execution_count": null,
   "id": "5",
   "metadata": {},
   "outputs": [],
   "source": [
    "f.fill_from_csv(\n",
    "    emissions_file='../data/emissions/ssp245_2022_harmon_1750-2024.csv',\n",
    "    forcing_file='../data/forcing/volcanic_solar.csv',\n",
    ")"
   ]
  },
  {
   "cell_type": "code",
   "execution_count": null,
   "id": "6",
   "metadata": {},
   "outputs": [],
   "source": [
    "fill(\n",
    "    f.forcing,\n",
    "    f.forcing.sel(specie=\"Volcanic\") * df_configs[\"forcing_scale[Volcanic]\"].values.squeeze(),\n",
    "    specie=\"Volcanic\",\n",
    ")\n",
    "fill(\n",
    "    f.forcing,\n",
    "    f.forcing.sel(specie=\"Solar\") * df_configs[\"forcing_scale[Solar]\"].values.squeeze(),\n",
    "    specie=\"Solar\",\n",
    ")\n",
    "\n",
    "f.fill_species_configs(\"../data/calibration/species_configs_properties_1.5.0.csv\")\n",
    "f.override_defaults(\"../data/calibration/calibrated_constrained_parameters_1.5.0.csv\")\n",
    "\n",
    "# initial conditions\n",
    "initialise(f.concentration, f.species_configs[\"baseline_concentration\"])\n",
    "initialise(f.forcing, 0)\n",
    "initialise(f.temperature, 0)\n",
    "initialise(f.cumulative_emissions, 0)\n",
    "initialise(f.airborne_emissions, 0)"
   ]
  },
  {
   "cell_type": "code",
   "execution_count": null,
   "id": "7",
   "metadata": {},
   "outputs": [],
   "source": [
    "f.run()"
   ]
  },
  {
   "cell_type": "code",
   "execution_count": null,
   "id": "8",
   "metadata": {},
   "outputs": [],
   "source": [
    "pl.plot(\n",
    "    f.timebounds,\n",
    "    (\n",
    "        (f.temperature.sel(layer=0, scenario='ssp245')) - \n",
    "        (f.temperature.sel(layer=0, scenario='ssp245-noCH4'))\n",
    "    ).median(dim='config')\n",
    ")\n",
    "pl.plot(\n",
    "    f.timebounds,\n",
    "    (\n",
    "        (f.temperature.sel(layer=0, scenario='ssp245')) - \n",
    "        (f.temperature.sel(layer=0, scenario='ssp245-noSO2'))\n",
    "    ).median(dim='config')\n",
    ")"
   ]
  },
  {
   "cell_type": "code",
   "execution_count": null,
   "id": "9",
   "metadata": {},
   "outputs": [],
   "source": [
    "f_noco2 = FAIR()\n",
    "f_noco2.define_time(1750, 2025, 1)\n",
    "f_noco2.define_scenarios(['ssp245', 'ssp245-noCO2', 'ssp245-noGHG'])\n",
    "species, properties = read_properties('../data/calibration/species_configs_properties_1.5.0_noCO2.csv')\n",
    "f_noco2.define_species(species, properties)\n",
    "f_noco2.ch4_method='Thornhill2021'\n",
    "df_configs = pd.read_csv('../data/calibration/calibrated_constrained_parameters_1.5.0.csv', index_col=0)\n",
    "f_noco2.define_configs(df_configs.index)\n",
    "f_noco2.allocate()\n",
    "\n",
    "f_noco2.fill_from_csv(\n",
    "    emissions_file='../data/emissions/ssp245_2022_harmon_1750-2024.csv',\n",
    "    forcing_file='../data/forcing/external_forcing_noCO2.csv',\n",
    ")\n",
    "\n",
    "fill(\n",
    "    f_noco2.forcing,\n",
    "    f_noco2.forcing.sel(specie=\"Volcanic\") * df_configs[\"forcing_scale[Volcanic]\"].values.squeeze(),\n",
    "    specie=\"Volcanic\",\n",
    ")\n",
    "fill(\n",
    "    f_noco2.forcing,\n",
    "    f_noco2.forcing.sel(specie=\"Solar\") * df_configs[\"forcing_scale[Solar]\"].values.squeeze(),\n",
    "    specie=\"Solar\",\n",
    ")\n",
    "fill(\n",
    "    f_noco2.forcing,\n",
    "    f_noco2.forcing.sel(specie=\"Land use\") * df_configs[\"forcing_scale[Land use]\"].values.squeeze(),\n",
    "    specie=\"Land use\",\n",
    ")\n",
    "\n",
    "f_noco2.fill_species_configs(\"../data/calibration/species_configs_properties_1.5.0_noCO2.csv\")\n",
    "f_noco2.override_defaults(\"../data/calibration/calibrated_constrained_parameters_1.5.0.csv\")\n",
    "\n",
    "# initial conditions\n",
    "initialise(f_noco2.concentration, f_noco2.species_configs[\"baseline_concentration\"])\n",
    "initialise(f_noco2.forcing, 0)\n",
    "initialise(f_noco2.temperature, 0)\n",
    "initialise(f_noco2.cumulative_emissions, 0)\n",
    "initialise(f_noco2.airborne_emissions, 0)\n",
    "\n",
    "f_noco2.run()"
   ]
  },
  {
   "cell_type": "code",
   "execution_count": null,
   "id": "10",
   "metadata": {},
   "outputs": [],
   "source": [
    "pl.plot(\n",
    "    f_noco2.timebounds,\n",
    "    (\n",
    "        (f_noco2.temperature.sel(layer=0, scenario='ssp245')) - \n",
    "        (f_noco2.temperature.sel(layer=0, scenario='ssp245-noCO2'))\n",
    "    ).median(dim='config')\n",
    ")"
   ]
  },
  {
   "cell_type": "code",
   "execution_count": null,
   "id": "11",
   "metadata": {},
   "outputs": [],
   "source": [
    "pl.plot(\n",
    "    f_noco2.timebounds,\n",
    "    (\n",
    "        (f_noco2.temperature.sel(layer=0, scenario='ssp245')) - \n",
    "        (f_noco2.temperature.sel(layer=0, scenario='ssp245-noGHG'))\n",
    "    ).median(dim='config')\n",
    ")"
   ]
  },
  {
   "cell_type": "code",
   "execution_count": null,
   "id": "12",
   "metadata": {},
   "outputs": [],
   "source": [
    "pl.plot(\n",
    "    f.timebounds,\n",
    "    (\n",
    "        (f.forcing_sum.sel(scenario='ssp245')) - \n",
    "        (f.forcing_sum.sel(scenario='ssp245-noSO2'))\n",
    "    ).median(dim='config')/1.31\n",
    ")\n",
    "pl.plot(\n",
    "    f.timebounds,\n",
    "    (\n",
    "        (f.temperature.sel(layer=0, scenario='ssp245')) - \n",
    "        (f.temperature.sel(layer=0, scenario='ssp245-noSO2'))\n",
    "    ).median(dim='config')\n",
    ")"
   ]
  },
  {
   "cell_type": "code",
   "execution_count": null,
   "id": "13",
   "metadata": {},
   "outputs": [],
   "source": [
    "pl.plot(\n",
    "    (\n",
    "        (f.forcing_sum.sel(scenario='ssp245')) - \n",
    "        (f.forcing_sum.sel(scenario='ssp245-noSO2'))\n",
    "    ).median(dim='config')/1.31,\n",
    "    (\n",
    "        (f.temperature.sel(layer=0, scenario='ssp245')) - \n",
    "        (f.temperature.sel(layer=0, scenario='ssp245-noSO2'))\n",
    "    ).median(dim='config')\n",
    ")"
   ]
  },
  {
   "cell_type": "code",
   "execution_count": null,
   "id": "14",
   "metadata": {},
   "outputs": [],
   "source": [
    "pl.plot(\n",
    "    f.timebounds,\n",
    "    (\n",
    "        (f.forcing_sum.sel(scenario='ssp245')) - \n",
    "        (f.forcing_sum.sel(scenario='ssp245-noSO2'))\n",
    "    ).median(dim='config')/(\n",
    "        (f.temperature.sel(layer=0, scenario='ssp245')) - \n",
    "        (f.temperature.sel(layer=0, scenario='ssp245-noSO2'))\n",
    "    ).median(dim='config')\n",
    ")\n",
    "pl.xlim(1850, 2025)\n",
    "pl.ylim(0, 3)"
   ]
  },
  {
   "cell_type": "code",
   "execution_count": null,
   "id": "15",
   "metadata": {},
   "outputs": [],
   "source": [
    "pl.plot(\n",
    "    f.timebounds,\n",
    "    (\n",
    "        (f.forcing_sum.sel(scenario='ssp245')) - \n",
    "        (f.forcing_sum.sel(scenario='ssp245-noCH4'))\n",
    "    ).median(dim='config')/1.31\n",
    ")\n",
    "pl.plot(\n",
    "    f.timebounds,\n",
    "    (\n",
    "        (f.temperature.sel(layer=0, scenario='ssp245')) - \n",
    "        (f.temperature.sel(layer=0, scenario='ssp245-noCH4'))\n",
    "    ).median(dim='config')\n",
    ")"
   ]
  },
  {
   "cell_type": "code",
   "execution_count": null,
   "id": "16",
   "metadata": {},
   "outputs": [],
   "source": [
    "pl.plot(\n",
    "    f.timebounds,\n",
    "    (\n",
    "        (f.forcing_sum.sel(scenario='ssp245')) - \n",
    "        (f.forcing_sum.sel(scenario='ssp245-noCH4'))\n",
    "    ).median(dim='config')\n",
    ")"
   ]
  },
  {
   "cell_type": "code",
   "execution_count": null,
   "id": "17",
   "metadata": {},
   "outputs": [],
   "source": [
    "pl.plot(\n",
    "    (\n",
    "        (f.forcing_sum.sel(scenario='ssp245')) - \n",
    "        (f.forcing_sum.sel(scenario='ssp245-noCH4'))\n",
    "    ).median(dim='config')/1.31,\n",
    "    (\n",
    "        (f.temperature.sel(layer=0, scenario='ssp245')) - \n",
    "        (f.temperature.sel(layer=0, scenario='ssp245-noCH4'))\n",
    "    ).median(dim='config')\n",
    ")"
   ]
  },
  {
   "cell_type": "code",
   "execution_count": null,
   "id": "18",
   "metadata": {},
   "outputs": [],
   "source": [
    "pl.plot(\n",
    "    f.timebounds,\n",
    "    (\n",
    "        (f.forcing_sum.sel(scenario='ssp245')) - \n",
    "        (f.forcing_sum.sel(scenario='ssp245-noCH4'))\n",
    "    ).median(dim='config')/(\n",
    "        (f.temperature.sel(layer=0, scenario='ssp245')) - \n",
    "        (f.temperature.sel(layer=0, scenario='ssp245-noCH4'))\n",
    "    ).median(dim='config')\n",
    ")\n",
    "\n",
    "pl.xlim(1850, 2025)\n",
    "pl.ylim(0,3)"
   ]
  },
  {
   "cell_type": "code",
   "execution_count": null,
   "id": "19",
   "metadata": {},
   "outputs": [],
   "source": [
    "pl.plot(\n",
    "    f_noco2.timebounds,\n",
    "    (\n",
    "        (f_noco2.forcing_sum.sel(scenario='ssp245')) - \n",
    "        (f_noco2.forcing_sum.sel(scenario='ssp245-noCO2'))\n",
    "    ).median(dim='config')/1.31\n",
    ")\n",
    "pl.plot(\n",
    "    f_noco2.timebounds,\n",
    "    (\n",
    "        (f_noco2.temperature.sel(layer=0, scenario='ssp245')) - \n",
    "        (f_noco2.temperature.sel(layer=0, scenario='ssp245-noCO2'))\n",
    "    ).median(dim='config')\n",
    ")"
   ]
  },
  {
   "cell_type": "code",
   "execution_count": null,
   "id": "20",
   "metadata": {},
   "outputs": [],
   "source": [
    "pl.plot(\n",
    "    (\n",
    "        (f_noco2.forcing_sum.sel(scenario='ssp245')) - \n",
    "        (f_noco2.forcing_sum.sel(scenario='ssp245-noCO2'))\n",
    "    ).median(dim='config')/1.31,\n",
    "    (\n",
    "        (f_noco2.temperature.sel(layer=0, scenario='ssp245')) - \n",
    "        (f_noco2.temperature.sel(layer=0, scenario='ssp245-noCO2'))\n",
    "    ).median(dim='config')\n",
    ")"
   ]
  },
  {
   "cell_type": "code",
   "execution_count": null,
   "id": "21",
   "metadata": {},
   "outputs": [],
   "source": [
    "pl.plot(\n",
    "    f.timebounds,\n",
    "    (\n",
    "        (f_noco2.forcing_sum.sel(scenario='ssp245')) - \n",
    "        (f_noco2.forcing_sum.sel(scenario='ssp245-noCO2'))\n",
    "    ).median(dim='config')/(\n",
    "        (f_noco2.temperature.sel(layer=0, scenario='ssp245')) - \n",
    "        (f_noco2.temperature.sel(layer=0, scenario='ssp245-noCO2'))\n",
    "    ).median(dim='config')\n",
    ")"
   ]
  },
  {
   "cell_type": "code",
   "execution_count": null,
   "id": "22",
   "metadata": {},
   "outputs": [],
   "source": [
    "data = np.array(\n",
    "    [\n",
    "        (\n",
    "            (f.temperature.sel(layer=0, scenario='ssp245')) - \n",
    "            (f.temperature.sel(layer=0, scenario='ssp245-noCH4'))\n",
    "        ).quantile(0.05, dim='config'),\n",
    "        (\n",
    "            (f.temperature.sel(layer=0, scenario='ssp245')) - \n",
    "            (f.temperature.sel(layer=0, scenario='ssp245-noCH4'))\n",
    "        ).median(dim='config'),\n",
    "        (\n",
    "            (f.temperature.sel(layer=0, scenario='ssp245')) - \n",
    "            (f.temperature.sel(layer=0, scenario='ssp245-noCH4'))\n",
    "        ).quantile(0.95, dim='config')\n",
    "    ]\n",
    ")\n",
    "data = (data[:, :-1] + data[:, 1:])/2\n",
    "data"
   ]
  },
  {
   "cell_type": "code",
   "execution_count": null,
   "id": "23",
   "metadata": {},
   "outputs": [],
   "source": [
    "df_ch4 = pd.DataFrame(data.T, columns=['p5', 'median', 'p95'], index=f.timepoints)\n",
    "os.makedirs('../output', exist_ok=True)\n",
    "df_ch4.to_csv('../output/ch4_emissions_attribution.csv')"
   ]
  },
  {
   "cell_type": "code",
   "execution_count": null,
   "id": "24",
   "metadata": {},
   "outputs": [],
   "source": [
    "pl.plot(f.concentration.sel(scenario='ssp245-noCH4', specie='CH4').median(dim='config'))"
   ]
  },
  {
   "cell_type": "code",
   "execution_count": null,
   "id": "25",
   "metadata": {},
   "outputs": [],
   "source": [
    "pl.plot(f.concentration.sel(scenario='ssp245', specie='CH4').median(dim='config'))"
   ]
  },
  {
   "cell_type": "code",
   "execution_count": null,
   "id": "26",
   "metadata": {},
   "outputs": [],
   "source": []
  }
 ],
 "metadata": {
  "kernelspec": {
   "display_name": "Python 3 (ipykernel)",
   "language": "python",
   "name": "python3"
  },
  "language_info": {
   "codemirror_mode": {
    "name": "ipython",
    "version": 3
   },
   "file_extension": ".py",
   "mimetype": "text/x-python",
   "name": "python",
   "nbconvert_exporter": "python",
   "pygments_lexer": "ipython3",
   "version": "3.13.0"
  }
 },
 "nbformat": 4,
 "nbformat_minor": 5
}
